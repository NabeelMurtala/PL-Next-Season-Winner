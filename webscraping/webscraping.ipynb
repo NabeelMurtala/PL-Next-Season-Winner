{
 "cells": [
  {
   "cell_type": "code",
   "execution_count": null,
   "id": "4cfb5f33",
   "metadata": {},
   "outputs": [],
   "source": [
    "import requests"
   ]
  },
  {
   "cell_type": "code",
   "execution_count": null,
   "id": "e13b5954",
   "metadata": {},
   "outputs": [],
   "source": []
  }
 ],
 "metadata": {
  "language_info": {
   "name": "python"
  }
 },
 "nbformat": 4,
 "nbformat_minor": 5
}
